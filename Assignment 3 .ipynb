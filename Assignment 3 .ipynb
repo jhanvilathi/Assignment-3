{
 "cells": [
  {
   "cell_type": "markdown",
   "id": "19870cbd-0545-473a-8163-e855ecc0676a",
   "metadata": {},
   "source": [
    "### Que1. What is the difference between a function and a method in Python?"
   ]
  },
  {
   "cell_type": "markdown",
   "id": "ac7d1e65-f758-477a-9f4d-3b6a5052d890",
   "metadata": {},
   "source": [
    "The key difference between a function and a method in Python lies in their association with objects and how they are called. Here's a breakdown:"
   ]
  },
  {
   "cell_type": "markdown",
   "id": "f3ade74b-de6f-4d0e-ba25-15a520ca7ac3",
   "metadata": {},
   "source": [
    "#### 1. Function:\n",
    "##### Definition: \n",
    "A function is a block of reusable code that is not associated with any particular object. It can be called independently to perform a task.\n",
    "##### Declaration: \n",
    "Defined using the def keyword.\n",
    "##### Usage: \n",
    "Functions can take arguments (parameters) and return values."
   ]
  },
  {
   "cell_type": "markdown",
   "id": "5219b408-6fb3-45a0-b9b7-4ea2944789bc",
   "metadata": {},
   "source": [
    "##### Example:"
   ]
  },
  {
   "cell_type": "code",
   "execution_count": 2,
   "id": "2798b137-b1d5-41fe-a697-9bb5e20ffdb7",
   "metadata": {},
   "outputs": [],
   "source": [
    "def greet(name):\n",
    "         return f\"Hello, {name}!\""
   ]
  },
  {
   "cell_type": "code",
   "execution_count": 7,
   "id": "81c7e49c-da70-4150-baa7-61997dbe8bca",
   "metadata": {},
   "outputs": [
    {
     "data": {
      "text/plain": [
       "'Hello, Aalind!'"
      ]
     },
     "execution_count": 7,
     "metadata": {},
     "output_type": "execute_result"
    }
   ],
   "source": [
    "greet(\"Aalind\")"
   ]
  },
  {
   "cell_type": "markdown",
   "id": "072dba40-5931-4627-b0a3-3509b3aeec37",
   "metadata": {},
   "source": [
    "#### 2. Method:\n",
    "##### Definition: \n",
    "A method is a function that is associated with an object (typically part of a class). It operates on the data (attributes) of the object and is called using the object.\n",
    "##### Binding:\n",
    "Methods are functions that are bound to objects, meaning they can modify or interact with the object’s state.\n",
    "##### Types of Methods:\n",
    "- Instance Methods: Operate on the instance of the class and can access or modify object attributes.\n",
    "- Class Methods: Bound to the class rather than instances and can modify class-level attributes.\n",
    "- Static Methods: Do not modify object or class state but belong to a class for organizational purposes."
   ]
  },
  {
   "cell_type": "markdown",
   "id": "3612d397-f1ed-4a9b-980e-f6d9e79d2495",
   "metadata": {},
   "source": [
    "##### Example"
   ]
  },
  {
   "cell_type": "code",
   "execution_count": 46,
   "id": "9bbf0ebb-568e-472e-a915-6dbe25a930f0",
   "metadata": {},
   "outputs": [
    {
     "name": "stdout",
     "output_type": "stream",
     "text": [
      "Hello, Jack!\n"
     ]
    }
   ],
   "source": [
    "class Greeter:\n",
    "         def __init__(self, name):\n",
    "             self.name = name\n",
    "         \n",
    "         def greet(self):\n",
    "             return f\"Hello, {self.name}!\"\n",
    "     \n",
    "g = Greeter(\"Jack\")\n",
    "print(g.greet())"
   ]
  },
  {
   "cell_type": "markdown",
   "id": "0e2b7aa5-6763-46a4-9030-08b4a2b09e0c",
   "metadata": {},
   "source": [
    "### Key Differences:\n",
    "| *Aspect*              | *Function*                               | *Method*                               |\n",
    "|-------------------------|--------------------------------------------|------------------------------------------|\n",
    "| *Association*          | Independent, not associated with objects   | Associated with an object (usually a class instance) |\n",
    "| *Calling*              | Called directly, e.g., function()        | Called on an object, e.g., object.method() |\n",
    "| *Data Access*          | Cannot directly access or modify object attributes | Can access or modify the object's attributes (instance methods) |\n",
    "| *Declaration Context*  | Defined at the module or global level      | Defined inside a class                   |"
   ]
  },
  {
   "cell_type": "markdown",
   "id": "1de9cb70-e6bb-473a-8305-8df49216c15e",
   "metadata": {},
   "source": [
    "In summary, functions are independent units of code, while methods are functions bound to objects and are typically used to operate on an object’s attributes or state."
   ]
  },
  {
   "cell_type": "markdown",
   "id": "57bc427e-36bd-4d3a-b9e5-b516a5724584",
   "metadata": {},
   "source": [
    "### Que2. Explain the concept of function arguments and parameters in Python."
   ]
  },
  {
   "cell_type": "markdown",
   "id": "4b056c56-511e-4ede-b82c-d583e0513fcf",
   "metadata": {},
   "source": [
    "In Python, function arguments and parameters refer to the values and variables involved when calling and defining functions. Though often used interchangeably, they represent different aspects of how information is passed into a function."
   ]
  },
  {
   "cell_type": "markdown",
   "id": "e0528c1e-333d-43dc-a208-a7366cbe69a9",
   "metadata": {},
   "source": [
    "#### 1. *Parameters*:\n",
    "##### Definition: \n",
    "Parameters are the variables defined by the function that receive input values. These are specified in the function definition.\n",
    "##### Role: \n",
    "Parameters act as placeholders for the values that will be passed to the function when it is called."
   ]
  },
  {
   "cell_type": "markdown",
   "id": "93061133-268b-4fb6-bb87-52246bdbc3e2",
   "metadata": {},
   "source": [
    "##### Example:"
   ]
  },
  {
   "cell_type": "code",
   "execution_count": 47,
   "id": "3e3f4df0-0e90-401a-8484-163d3a9a426a",
   "metadata": {},
   "outputs": [],
   "source": [
    "def greet(name):  # 'name' is a parameter\n",
    "         return f\"Hello, {\"Jack\"}!\""
   ]
  },
  {
   "cell_type": "code",
   "execution_count": 48,
   "id": "81151c28-7247-4a6f-b56e-1980e0cc5c73",
   "metadata": {},
   "outputs": [
    {
     "data": {
      "text/plain": [
       "'Hello, Jack!'"
      ]
     },
     "execution_count": 48,
     "metadata": {},
     "output_type": "execute_result"
    }
   ],
   "source": [
    "greet(\"name\")"
   ]
  },
  {
   "cell_type": "markdown",
   "id": "1144adce-d238-49c2-aeae-7f49ed3b7f58",
   "metadata": {},
   "source": [
    "#### 2. Arguments:\n",
    "##### Definition: \n",
    "Arguments are the actual values passed to the function when it is called. These values are assigned to the corresponding parameters defined in the function.\n",
    "##### Role:\n",
    "Arguments provide the actual data that the function will use during its execution."
   ]
  },
  {
   "cell_type": "markdown",
   "id": "94caa92b-4a15-40a0-91d9-6ec269d83b4e",
   "metadata": {},
   "source": [
    "##### Example:"
   ]
  },
  {
   "cell_type": "code",
   "execution_count": 49,
   "id": "0a2677c8-5cbb-4952-93ba-54f5d1c5d958",
   "metadata": {},
   "outputs": [
    {
     "data": {
      "text/plain": [
       "'Hello, Jack!'"
      ]
     },
     "execution_count": 49,
     "metadata": {},
     "output_type": "execute_result"
    }
   ],
   "source": [
    "greet(\"Jack\")  # \"Alice\" is an argument passed to the function"
   ]
  },
  {
   "cell_type": "markdown",
   "id": "9712a484-0197-4945-80ab-972fcf4a0801",
   "metadata": {},
   "source": [
    "#### Key Types of Function Parameters and Arguments:"
   ]
  },
  {
   "cell_type": "markdown",
   "id": "db7b94aa-d6f1-4019-aa09-2afd9b649b6c",
   "metadata": {},
   "source": [
    "##### A. Positional Arguments/Parameters:\n",
    "Arguments are matched to parameters based on their position in the function call."
   ]
  },
  {
   "cell_type": "markdown",
   "id": "2bba15dd-4558-4c01-8ba7-aab029f9d89b",
   "metadata": {},
   "source": [
    "##### Example:"
   ]
  },
  {
   "cell_type": "code",
   "execution_count": 51,
   "id": "b8e6bd96-d09e-4aae-886e-7025033c0754",
   "metadata": {},
   "outputs": [],
   "source": [
    "def add(a, b):  # 'a' and 'b' are parameters\n",
    "         return a + b"
   ]
  },
  {
   "cell_type": "code",
   "execution_count": 53,
   "id": "6de79e59-f21d-4d66-84c7-72c6eb2617b5",
   "metadata": {},
   "outputs": [
    {
     "data": {
      "text/plain": [
       "12"
      ]
     },
     "execution_count": 53,
     "metadata": {},
     "output_type": "execute_result"
    }
   ],
   "source": [
    "add(5, 7)  # 5 and 7 are arguments, matched to 'a' and 'b'"
   ]
  },
  {
   "cell_type": "markdown",
   "id": "b9c543aa-9d3a-49b9-8fac-70a0055d80aa",
   "metadata": {},
   "source": [
    "##### B. Keyword Arguments:\n",
    "Arguments are passed to the function by explicitly specifying the parameter name. This allows you to pass arguments in any order."
   ]
  },
  {
   "cell_type": "markdown",
   "id": "f75c1b42-f576-4b00-930b-7253c8208213",
   "metadata": {},
   "source": [
    "##### Example:"
   ]
  },
  {
   "cell_type": "code",
   "execution_count": 73,
   "id": "ff7a991e-7c8b-45c2-be77-263f42b8854b",
   "metadata": {},
   "outputs": [
    {
     "data": {
      "text/plain": [
       "'Jack is 26 years old.'"
      ]
     },
     "execution_count": 73,
     "metadata": {},
     "output_type": "execute_result"
    }
   ],
   "source": [
    "def introduce(name, age):\n",
    "         return f\"{name} is {age} years old.\"\n",
    "     \n",
    "introduce(name=\"Jack\", age= 26)"
   ]
  },
  {
   "cell_type": "markdown",
   "id": "610d346e-aa7f-4ff2-9464-08c0876f7e23",
   "metadata": {},
   "source": [
    "##### C. Default Parameters:"
   ]
  },
  {
   "cell_type": "markdown",
   "id": "556915dd-c324-455a-972b-0e99d67401e0",
   "metadata": {},
   "source": [
    "Parameters can be given default values, which are used if no argument is provided for that parameter during the function call."
   ]
  },
  {
   "cell_type": "markdown",
   "id": "ac454a7a-f250-4aff-96d5-6d0fc95f012f",
   "metadata": {},
   "source": [
    "##### Example:"
   ]
  },
  {
   "cell_type": "code",
   "execution_count": 77,
   "id": "8a41f0d6-9a79-4014-b77a-cbe28375306b",
   "metadata": {},
   "outputs": [
    {
     "data": {
      "text/plain": [
       "'Hello, Jack!'"
      ]
     },
     "execution_count": 77,
     "metadata": {},
     "output_type": "execute_result"
    }
   ],
   "source": [
    "def greet(name=\"Guest\"):\n",
    "         return f\"Hello, {name}!\"\n",
    "     \n",
    "greet()          # Output: \"Hello, Guest!\"\n",
    "greet(\"Jack\")   # Output: \"Hello, Jack!\""
   ]
  },
  {
   "cell_type": "markdown",
   "id": "2f704539-6b36-4320-a78b-009eec2069f8",
   "metadata": {},
   "source": [
    "##### D. Variable-Length Arguments:\n",
    "Python allows you to pass a variable number of arguments to a function using args and kwargs."
   ]
  },
  {
   "cell_type": "markdown",
   "id": "e6dbfed7-096e-4994-bbef-db705cc8f26b",
   "metadata": {},
   "source": [
    "##### 1. args (Positional variable-length arguments):\n",
    "Allows the function to accept any number of positional arguments, which are then stored as a tuple.\n",
    "##### Example:"
   ]
  },
  {
   "cell_type": "code",
   "execution_count": 78,
   "id": "15b032a9-509c-4c73-93e0-7503d4034030",
   "metadata": {},
   "outputs": [
    {
     "data": {
      "text/plain": [
       "6"
      ]
     },
     "execution_count": 78,
     "metadata": {},
     "output_type": "execute_result"
    }
   ],
   "source": [
    " def sum_numbers(*args):\n",
    "            return sum(args)\n",
    "        \n",
    "sum_numbers(1, 2, 3)"
   ]
  },
  {
   "cell_type": "markdown",
   "id": "789a2fe2-a182-4aff-933b-245eb88d68f9",
   "metadata": {},
   "source": [
    "##### 2. kwargs (Keyword variable-length arguments):\n",
    "Allows the function to accept any number of keyword arguments, which are stored in a dictionary.\n",
    "#####Example:"
   ]
  },
  {
   "cell_type": "code",
   "execution_count": 81,
   "id": "96d21b77-30d0-414e-8be2-499b4f3cceb7",
   "metadata": {},
   "outputs": [
    {
     "name": "stdout",
     "output_type": "stream",
     "text": [
      "name: Jack\n",
      "age: 26\n",
      "city: New York\n"
     ]
    }
   ],
   "source": [
    "def print_info(**kwargs):\n",
    "            for key, value in kwargs.items():\n",
    "                print(f\"{key}: {value}\")\n",
    "        \n",
    "print_info(name=\"Jack\", age=26, city=\"New York\")"
   ]
  },
  {
   "cell_type": "markdown",
   "id": "0cb4ae5f-fa7d-47c7-812d-3ddbb7a2c33e",
   "metadata": {},
   "source": [
    "#### Summary:\n",
    "##### Parameters: \n",
    "Defined in the function definition, they are placeholders for the values that will be passed to the function.\n",
    "##### Arguments:\n",
    "The actual values passed into the function when it is called."
   ]
  },
  {
   "cell_type": "markdown",
   "id": "1d67730a-648c-4eed-a073-c02398cdd52c",
   "metadata": {},
   "source": [
    "Together, parameters and arguments allow functions to operate with flexible inputs, making them powerful tools in Python programming."
   ]
  },
  {
   "cell_type": "markdown",
   "id": "db73cd36-b058-4c30-95ca-faf3956393cb",
   "metadata": {},
   "source": [
    "### Que3. What are the different ways to define and call a function in Python?"
   ]
  },
  {
   "cell_type": "markdown",
   "id": "54d397a6-6b08-4da0-bace-a7066a9ebc23",
   "metadata": {},
   "source": [
    "In Python, functions are defined and called in different ways depending on the context. Below are some common methods:\n",
    "\n",
    "#### 1. Basic Function Definition and Call:\n",
    "A function is defined using the def keyword followed by a name, parameters (optional), and the function body. You call the function by its name followed by parentheses."
   ]
  },
  {
   "cell_type": "markdown",
   "id": "3964eae6-f6ef-4730-b17d-31f555594cff",
   "metadata": {},
   "source": [
    "##### Defining a function"
   ]
  },
  {
   "cell_type": "code",
   "execution_count": 2,
   "id": "c0e0664e-3aaa-488e-b7b6-76bfcea8f908",
   "metadata": {},
   "outputs": [],
   "source": [
    "def greet():\n",
    "    print(\"Hello, World!\")"
   ]
  },
  {
   "cell_type": "markdown",
   "id": "d2cc1183-09b8-4722-a984-db9728c20e50",
   "metadata": {},
   "source": [
    "##### Calling the function"
   ]
  },
  {
   "cell_type": "code",
   "execution_count": 3,
   "id": "891cb541-4f48-4275-bb1b-f1cf05699def",
   "metadata": {},
   "outputs": [
    {
     "name": "stdout",
     "output_type": "stream",
     "text": [
      "Hello, World!\n"
     ]
    }
   ],
   "source": [
    "greet() "
   ]
  },
  {
   "cell_type": "markdown",
   "id": "48036ae8-ca56-4253-b546-c0ab22272c94",
   "metadata": {},
   "source": [
    "#### 2. Function with Parameters:\n",
    "A function can take arguments that are passed when calling the function"
   ]
  },
  {
   "cell_type": "markdown",
   "id": "5243d6a8-b85d-4387-bef8-e6a523651c39",
   "metadata": {},
   "source": [
    "##### Defining a function with parameters"
   ]
  },
  {
   "cell_type": "code",
   "execution_count": 6,
   "id": "792a131c-9f9d-4e25-a12e-b483420bad37",
   "metadata": {},
   "outputs": [],
   "source": [
    "def greet(name):\n",
    "    print(f\"Hello, {name}!\")"
   ]
  },
  {
   "cell_type": "markdown",
   "id": "7180d051-13bf-465a-8374-e8a481983bd3",
   "metadata": {},
   "source": [
    "##### Calling the function with an argument"
   ]
  },
  {
   "cell_type": "code",
   "execution_count": 7,
   "id": "ff4d1903-e254-4a09-a9f8-07adf2b88e6a",
   "metadata": {},
   "outputs": [
    {
     "name": "stdout",
     "output_type": "stream",
     "text": [
      "Hello, Jack!\n"
     ]
    }
   ],
   "source": [
    "greet(\"Jack\")"
   ]
  },
  {
   "cell_type": "markdown",
   "id": "43cf974c-ac47-4251-867b-689f07e97da5",
   "metadata": {},
   "source": [
    "#### 3. Function with Default Parameters:\n",
    "You can provide default values for parameters.\n",
    "\n",
    "##### Defining a function with a default parameter"
   ]
  },
  {
   "cell_type": "code",
   "execution_count": 9,
   "id": "cb3662ee-4be2-46f6-aeb5-517cab9c2edd",
   "metadata": {},
   "outputs": [],
   "source": [
    "def greet(name=\"World\"):\n",
    "    print(f\"Hello, {name}!\")"
   ]
  },
  {
   "cell_type": "markdown",
   "id": "a303bdfe-d4c1-432b-a7df-aa19f16cf051",
   "metadata": {},
   "source": [
    "##### Calling without arguments uses the default value"
   ]
  },
  {
   "cell_type": "code",
   "execution_count": 10,
   "id": "8742b52c-6481-415c-9416-497eb629fd31",
   "metadata": {},
   "outputs": [
    {
     "name": "stdout",
     "output_type": "stream",
     "text": [
      "Hello, World!\n"
     ]
    }
   ],
   "source": [
    "greet()"
   ]
  },
  {
   "cell_type": "markdown",
   "id": "d3f78d1a-672a-43a4-8afa-53c12279cee2",
   "metadata": {},
   "source": [
    "##### Calling with an argument overrides the default"
   ]
  },
  {
   "cell_type": "code",
   "execution_count": 11,
   "id": "cf051093-4fa6-4ac5-ac5a-04629be0ab3c",
   "metadata": {},
   "outputs": [
    {
     "name": "stdout",
     "output_type": "stream",
     "text": [
      "Hello, Jack!\n"
     ]
    }
   ],
   "source": [
    "greet(\"Jack\")"
   ]
  },
  {
   "cell_type": "markdown",
   "id": "0b85cced-1bbe-429a-ab7c-600a693378ce",
   "metadata": {},
   "source": [
    "#### 4. Function with Return Values:\n",
    "A function can return a value using the return statement.\n",
    "\n",
    "##### Defining a function that returns a value"
   ]
  },
  {
   "cell_type": "code",
   "execution_count": 12,
   "id": "9064f3dd-c94a-4db4-b22f-75889f39ca58",
   "metadata": {},
   "outputs": [],
   "source": [
    "def add(a, b):\n",
    "    return a + b"
   ]
  },
  {
   "cell_type": "markdown",
   "id": "18da5a7d-9621-400a-92c9-64f7e193b4d3",
   "metadata": {},
   "source": [
    "##### Calling the function and storing the result"
   ]
  },
  {
   "cell_type": "code",
   "execution_count": 13,
   "id": "7c992d15-9267-4b74-a7e6-68607afda0d9",
   "metadata": {},
   "outputs": [
    {
     "name": "stdout",
     "output_type": "stream",
     "text": [
      "5\n"
     ]
    }
   ],
   "source": [
    "result = add(2, 3)\n",
    "print(result)"
   ]
  },
  {
   "cell_type": "markdown",
   "id": "69b13bab-38c8-4431-b75b-e00410231d51",
   "metadata": {},
   "source": [
    "#### 5. Lambda Functions (Anonymous Functions)\n",
    "A lambda function is a short, inline function without a name. It is defined using the lambda keyword and can take multiple arguments but contains only one expression.\n",
    "\n",
    "##### Defining a lambda function"
   ]
  },
  {
   "cell_type": "code",
   "execution_count": 17,
   "id": "f4038091-6213-479c-a158-172ef6b72716",
   "metadata": {},
   "outputs": [],
   "source": [
    "square = lambda x: x ** 3"
   ]
  },
  {
   "cell_type": "markdown",
   "id": "22f41bf4-46c2-4d33-9efd-364895747e88",
   "metadata": {},
   "source": [
    "##### Calling the lambda function"
   ]
  },
  {
   "cell_type": "code",
   "execution_count": 18,
   "id": "e3cca921-b445-4d89-8ad6-a78806bb65f4",
   "metadata": {},
   "outputs": [
    {
     "name": "stdout",
     "output_type": "stream",
     "text": [
      "64\n"
     ]
    }
   ],
   "source": [
    "print(square(4))"
   ]
  },
  {
   "cell_type": "markdown",
   "id": "8091f844-fb6a-4221-9627-70eac0b6d706",
   "metadata": {},
   "source": [
    "##### Lambda with multiple parameters"
   ]
  },
  {
   "cell_type": "code",
   "execution_count": 19,
   "id": "86fb41de-c868-4236-a534-50a64bfc4b52",
   "metadata": {},
   "outputs": [
    {
     "name": "stdout",
     "output_type": "stream",
     "text": [
      "7\n"
     ]
    }
   ],
   "source": [
    "add = lambda a, b: a + b\n",
    "print(add(3, 4))"
   ]
  },
  {
   "cell_type": "markdown",
   "id": "5c2fd893-5bfa-4a23-9b04-33628723b452",
   "metadata": {},
   "source": [
    "#### 6. Higher-Order Functions:\n",
    "A function that takes another function as an argument or returns one.\n",
    "\n",
    "\n",
    "##### Defining a higher-order function\n"
   ]
  },
  {
   "cell_type": "code",
   "execution_count": 22,
   "id": "bf276f4b-96a8-4475-bb3c-33e3b7994193",
   "metadata": {},
   "outputs": [],
   "source": [
    "def apply_func(f, x):\n",
    "    return f(x)"
   ]
  },
  {
   "cell_type": "markdown",
   "id": "caf75728-edb9-443c-9dba-bcc5866394d1",
   "metadata": {},
   "source": [
    "##### Passing a lambda function to the higher-order function"
   ]
  },
  {
   "cell_type": "code",
   "execution_count": 23,
   "id": "818f7dcd-6e45-4247-973b-35c9ba0e54bd",
   "metadata": {},
   "outputs": [
    {
     "name": "stdout",
     "output_type": "stream",
     "text": [
      "25\n"
     ]
    }
   ],
   "source": [
    "result = apply_func(lambda x: x ** 2, 5)\n",
    "print(result)"
   ]
  },
  {
   "cell_type": "markdown",
   "id": "9043950b-a1d7-4bf9-97f3-5d038bc190d9",
   "metadata": {},
   "source": [
    "#### 7. Recursive Functions:\n",
    "A function that calls itself.\n",
    "\n",
    "##### Defining a recursive function to calculate factorial"
   ]
  },
  {
   "cell_type": "code",
   "execution_count": 25,
   "id": "4c85988d-3599-44ac-8344-64e213de0138",
   "metadata": {},
   "outputs": [],
   "source": [
    "def factorial(n):\n",
    "    if n == 1:\n",
    "        return 1\n",
    "    else:\n",
    "        return n * factorial(n - 1)"
   ]
  },
  {
   "cell_type": "markdown",
   "id": "ca128561-c288-4965-9a44-2392fa3d8842",
   "metadata": {},
   "source": [
    "##### Calling the recursive function"
   ]
  },
  {
   "cell_type": "code",
   "execution_count": 27,
   "id": "0e2cd8cf-d4b0-4666-9e5b-8885c7b49ae1",
   "metadata": {},
   "outputs": [
    {
     "name": "stdout",
     "output_type": "stream",
     "text": [
      "120\n"
     ]
    }
   ],
   "source": [
    "print(factorial(5))"
   ]
  },
  {
   "cell_type": "markdown",
   "id": "c25cfb8d-0bbc-4297-8886-e7bcd775013f",
   "metadata": {},
   "source": [
    "#### 8. Arbitrary Arguments:\n",
    "You can define a function to accept any number of positional (*args) or keyword arguments (**kwargs).\n",
    "\n",
    "##### Defining a function with *args (arbitrary positional arguments)"
   ]
  },
  {
   "cell_type": "code",
   "execution_count": 29,
   "id": "f1d6a396-dc60-4954-bf3b-cd57a6e9043e",
   "metadata": {},
   "outputs": [],
   "source": [
    "def add_all(*args):\n",
    "    return sum(args)"
   ]
  },
  {
   "cell_type": "markdown",
   "id": "3ba7b62d-8072-43c4-b52d-28d25b65809a",
   "metadata": {},
   "source": [
    "##### Calling with multiple arguments"
   ]
  },
  {
   "cell_type": "code",
   "execution_count": 31,
   "id": "9a81a9d5-2e14-4395-b756-ffd19c547951",
   "metadata": {},
   "outputs": [
    {
     "name": "stdout",
     "output_type": "stream",
     "text": [
      "10\n"
     ]
    }
   ],
   "source": [
    "print(add_all(1, 2, 3, 4))"
   ]
  },
  {
   "cell_type": "markdown",
   "id": "8e4777a6-fec2-4dcc-b67b-4d113d416b93",
   "metadata": {},
   "source": [
    "##### Defining a function with **kwargs (arbitrary keyword arguments)"
   ]
  },
  {
   "cell_type": "code",
   "execution_count": 33,
   "id": "a8e731c0-d36c-4daf-9662-a2b81138cd28",
   "metadata": {},
   "outputs": [],
   "source": [
    "def greet_all(**kwargs):\n",
    "    for key, value in kwargs.items():\n",
    "        print(f\"{key}: {value}\")"
   ]
  },
  {
   "cell_type": "code",
   "execution_count": 34,
   "id": "e90d8a61-1b0f-4f0d-a1e0-9f31d7394313",
   "metadata": {},
   "outputs": [
    {
     "name": "stdout",
     "output_type": "stream",
     "text": [
      "name: Jack\n",
      "age: 26\n"
     ]
    }
   ],
   "source": [
    "# Calling with multiple keyword arguments\n",
    "greet_all(name=\"Jack\", age=26)"
   ]
  },
  {
   "cell_type": "markdown",
   "id": "03a070a7-cbc0-4bb9-a569-530a30c8d6b6",
   "metadata": {},
   "source": [
    "These are some of the common ways to define and call functions in Python, each suited to different use cases and contexts."
   ]
  },
  {
   "cell_type": "markdown",
   "id": "4d85bb77-d252-4ecb-8191-4101cdfdfdd9",
   "metadata": {},
   "source": [
    "### Que4. what is the purpose of the 'return' statment in a Python function?"
   ]
  },
  {
   "cell_type": "markdown",
   "id": "9db7ee89-b93d-437b-a65f-b702478803d2",
   "metadata": {},
   "source": [
    "The 'return' statement in a Python function is used to:"
   ]
  },
  {
   "cell_type": "markdown",
   "id": "a30d51b2-915f-4f14-8c72-bb0e9710494a",
   "metadata": {},
   "source": [
    "#### 1. Send a Result Back to the Caller: \n",
    "It terminates the execution of the function and sends a value (or values) back to the part of the program where the function was called. This allows the calling code to capture and use the result of the function.\n",
    "\n",
    "  ##### Example:"
   ]
  },
  {
   "cell_type": "code",
   "execution_count": 38,
   "id": "f730c4be-7114-48af-abdb-c33274d3b1ab",
   "metadata": {},
   "outputs": [
    {
     "name": "stdout",
     "output_type": "stream",
     "text": [
      "11\n"
     ]
    }
   ],
   "source": [
    "def add(a, b):\n",
    "       return a + b\n",
    "\n",
    "result = add(4, 7)  # 'result' will hold the value 5\n",
    "print(result)"
   ]
  },
  {
   "cell_type": "markdown",
   "id": "45f07a01-bab7-409c-b93d-ba536c797d2a",
   "metadata": {},
   "source": [
    "#### 2. Exit the Function:\n",
    "Once the return statement is executed, the function terminates, meaning no further lines of code within the function will be executed.\n",
    "\n",
    "   ##### Example:"
   ]
  },
  {
   "cell_type": "code",
   "execution_count": 41,
   "id": "d059365a-be2e-4fee-8486-6c2173f3029f",
   "metadata": {},
   "outputs": [
    {
     "name": "stdout",
     "output_type": "stream",
     "text": [
      "Even\n",
      "Odd\n"
     ]
    }
   ],
   "source": [
    " def check_even(number):\n",
    "       if number % 2 == 0:\n",
    "           return \"Even\"\n",
    "       return \"Odd\"\n",
    "\n",
    "print(check_even(4))  \n",
    "print(check_even(3))"
   ]
  },
  {
   "cell_type": "markdown",
   "id": "f243ad77-8c7b-4be7-b414-d93b1766e6b5",
   "metadata": {},
   "source": [
    "#### 3. Return Multiple Values:\n",
    "Python allows a function to return multiple values as a tuple.\n",
    "\n",
    "  ##### Example:"
   ]
  },
  {
   "cell_type": "code",
   "execution_count": 44,
   "id": "568f6adc-3cec-4ff9-b834-b8e49dd3cfc9",
   "metadata": {},
   "outputs": [],
   "source": [
    "def get_coordinates():\n",
    "       x = 10\n",
    "       y = 20\n",
    "       return x, y"
   ]
  },
  {
   "cell_type": "code",
   "execution_count": 46,
   "id": "4c9c7e0f-6bf5-481b-bc83-ef68f2580da3",
   "metadata": {},
   "outputs": [
    {
     "name": "stdout",
     "output_type": "stream",
     "text": [
      "(10, 20)\n"
     ]
    }
   ],
   "source": [
    "coord = get_coordinates()  \n",
    "print(coord)"
   ]
  },
  {
   "cell_type": "code",
   "execution_count": 47,
   "id": "78c3d022-5a56-4125-bbf0-5747d98b5097",
   "metadata": {},
   "outputs": [
    {
     "name": "stdout",
     "output_type": "stream",
     "text": [
      "10 20\n"
     ]
    }
   ],
   "source": [
    "# You can also unpack the returned tuple\n",
    "x_val, y_val = get_coordinates()\n",
    "print(x_val, y_val)"
   ]
  },
  {
   "cell_type": "markdown",
   "id": "cda46071-d4d2-4aec-ad45-0956de146c9c",
   "metadata": {},
   "source": [
    "#### 4. Return None by Default: \n",
    "If a function does not explicitly use a return statement, or it doesn't return any value, Python implicitly returns None.\n",
    "\n",
    "  ##### Example:"
   ]
  },
  {
   "cell_type": "code",
   "execution_count": 50,
   "id": "8bb0a994-ad9f-4691-9722-deea867b07a1",
   "metadata": {},
   "outputs": [],
   "source": [
    "def greet():\n",
    "    print(\"Hello, World!\")"
   ]
  },
  {
   "cell_type": "code",
   "execution_count": 51,
   "id": "53635489-488a-497b-8e23-a122f4b25af1",
   "metadata": {},
   "outputs": [
    {
     "name": "stdout",
     "output_type": "stream",
     "text": [
      "Hello, World!\n"
     ]
    }
   ],
   "source": [
    "result = greet() "
   ]
  },
  {
   "cell_type": "code",
   "execution_count": 53,
   "id": "5678c895-408c-41fb-ac92-b4f11fc9b0bf",
   "metadata": {},
   "outputs": [
    {
     "name": "stdout",
     "output_type": "stream",
     "text": [
      "None\n"
     ]
    }
   ],
   "source": [
    "print(result)"
   ]
  },
  {
   "cell_type": "markdown",
   "id": "d8f560bb-74af-4ae1-99b1-a94f38ff4d01",
   "metadata": {},
   "source": [
    "#### Key Points:\n",
    "##### Without return:\n",
    "The function always returns None.\n",
    "##### With return:\n",
    "The function can return any type of object, including integers, strings, lists, objects, or multiple values.\n",
    "##### Return Ends Function Execution:\n",
    "Any code after the return statement will not be executed."
   ]
  },
  {
   "cell_type": "markdown",
   "id": "7920de35-0674-4e42-be81-14a36fe70170",
   "metadata": {},
   "source": [
    "### Que 5. what are iterators in python and how do they differ from iterables?"
   ]
  },
  {
   "cell_type": "markdown",
   "id": "5fec37a2-eaf8-4abf-94db-4bf099c96f7a",
   "metadata": {},
   "source": [
    "In Python, iterators and iterables are closely related concepts, but they serve different roles in iteration (i.e., looping over items)."
   ]
  },
  {
   "cell_type": "markdown",
   "id": "b0b861e6-45c9-47b2-a61c-a5349a56ea11",
   "metadata": {},
   "source": [
    "#### 1. Iterables:\n",
    "An *iterable* is any Python object that can return its elements one at a time. It is an object that can be iterated (looped) over. Most commonly used iterables include lists, tuples, strings, dictionaries, and sets.\n",
    "\n",
    "#### Key Characteristics of Iterables:\n",
    "- An iterable object has the __iter__() method, which returns an iterator.\n",
    "- Examples of iterable objects:\n",
    "- Lists: [1, 2, 3]\n",
    "- Tuples: (1, 2, 3)\n",
    "- Strings: \"abc\"\n",
    "- Sets: {1, 2, 3}\n",
    "- Dictionaries: {\"key1\": \"value1\", \"key2\": \"value2\"}"
   ]
  },
  {
   "cell_type": "markdown",
   "id": "526c724f-37e4-49f3-8055-73b5965ef477",
   "metadata": {},
   "source": [
    "##### Example of an Iterable:"
   ]
  },
  {
   "cell_type": "code",
   "execution_count": 54,
   "id": "afc6fdde-defa-4fa2-9e56-b2030d481252",
   "metadata": {},
   "outputs": [
    {
     "name": "stdout",
     "output_type": "stream",
     "text": [
      "1\n",
      "2\n",
      "3\n"
     ]
    }
   ],
   "source": [
    "my_list = [1, 2, 3]  \n",
    "for item in my_list:\n",
    "    print(item)"
   ]
  },
  {
   "cell_type": "markdown",
   "id": "e578d9d0-415b-4e0f-beb2-6f32032111e4",
   "metadata": {},
   "source": [
    "#### 2. Iterators:\n",
    "An iterator is an object that represents a stream of data. It produces the next value each time it is asked for one, usually with the next() function.\n",
    "\n",
    "#### Key Characteristics of Iterators:\n",
    "- An iterator is created by calling the __iter__() method on an iterable.\n",
    "- An iterator must implement two methods:\n",
    "1. __iter__() – returns the iterator object itself.\n",
    "2. __next__() – returns the next element in the sequence or raises a StopIteration exception when there are no more elements."
   ]
  },
  {
   "cell_type": "markdown",
   "id": "54e3195f-a4dd-4678-9404-cb4d97d8a632",
   "metadata": {},
   "source": [
    "##### Example of an Iterator:"
   ]
  },
  {
   "cell_type": "code",
   "execution_count": 56,
   "id": "c6285095-e036-4600-9989-c6558b4330b3",
   "metadata": {},
   "outputs": [],
   "source": [
    "my_list = [1, 2, 3]\n",
    "iterator = iter(my_list)  "
   ]
  },
  {
   "cell_type": "code",
   "execution_count": 57,
   "id": "0f779c2b-daaa-4f0d-b8bd-603e583ec6ba",
   "metadata": {},
   "outputs": [
    {
     "name": "stdout",
     "output_type": "stream",
     "text": [
      "1\n"
     ]
    }
   ],
   "source": [
    "print(next(iterator))"
   ]
  },
  {
   "cell_type": "code",
   "execution_count": 58,
   "id": "b8a499da-9daa-4afe-84eb-1c22d71e5b41",
   "metadata": {},
   "outputs": [
    {
     "name": "stdout",
     "output_type": "stream",
     "text": [
      "2\n"
     ]
    }
   ],
   "source": [
    "print(next(iterator))"
   ]
  },
  {
   "cell_type": "code",
   "execution_count": 59,
   "id": "a20a911b-2c76-46ce-9faf-4509eab5b005",
   "metadata": {},
   "outputs": [
    {
     "name": "stdout",
     "output_type": "stream",
     "text": [
      "3\n"
     ]
    }
   ],
   "source": [
    "print(next(iterator)) "
   ]
  },
  {
   "cell_type": "markdown",
   "id": "a2071e23-e4b6-4396-b5d7-baaca920ed22",
   "metadata": {},
   "source": [
    "When there are no more elements to return, calling next() again will raise a StopIteration exception:"
   ]
  },
  {
   "cell_type": "markdown",
   "id": "4efd8eb2-f71f-49a0-98e7-73010795b7a6",
   "metadata": {},
   "source": [
    "print(next(iterator))"
   ]
  },
  {
   "cell_type": "markdown",
   "id": "51caa1ac-b54f-40a2-be74-d80748efdb78",
   "metadata": {},
   "source": [
    "#### 3. Difference Between Iterables and Iterators:"
   ]
  },
  {
   "cell_type": "markdown",
   "id": "124c4af3-9fc9-4ba0-9068-187ac372e12d",
   "metadata": {},
   "source": [
    "| *Aspect*         | *Iterable*                                             | *Iterator*                                           |\n",
    "|--------------------|----------------------------------------------------------|--------------------------------------------------------|\n",
    "| *Definition*      | An object that can be looped over (e.g., list, tuple).   | An object that produces one element at a time.          |\n",
    "| *Methods*         | Must implement the __iter__() method.                  | Must implement both __iter__() and __next__() methods. |\n",
    "| *Usage*           | You can get an iterator from an iterable using iter(). | The iterator is used with next() to get elements one by one. |\n",
    "| *Reusability*     | An iterable can be passed through multiple loops.        | An iterator can only be used once, after which it’s exhausted. |\n",
    "| *Memory Efficiency* | Holds all items in memory at once (unless it's a generator or similar). | Does not store all elements in memory; fetches elements one at a time. |\n"
   ]
  },
  {
   "cell_type": "markdown",
   "id": "978b6ccc-ab35-44b8-9960-9e3b5ca439d3",
   "metadata": {},
   "source": [
    "#### 4. Custom Iterators:\n",
    "You can create custom iterators by defining a class that implements both __iter__() and __next__() methods.\n",
    "\n",
    "##### Example of a Custom Iterator:"
   ]
  },
  {
   "cell_type": "code",
   "execution_count": 79,
   "id": "358eda6d-e863-4332-8e77-4521c1ec2b44",
   "metadata": {},
   "outputs": [
    {
     "name": "stdout",
     "output_type": "stream",
     "text": [
      "1\n",
      "2\n",
      "3\n",
      "4\n",
      "5\n"
     ]
    }
   ],
   "source": [
    "class Counter:\n",
    "    def __init__(self, start, end):\n",
    "        self.current = start\n",
    "        self.end = end\n",
    "\n",
    "    def __iter__(self):\n",
    "        return self\n",
    "\n",
    "    def __next__(self):\n",
    "        if self.current > self.end:\n",
    "            raise StopIteration\n",
    "        else:\n",
    "            self.current += 1\n",
    "            return self.current - 1\n",
    "\n",
    "# Create an instance of the custom iterator\n",
    "counter = Counter(1, 5)\n",
    "\n",
    "# Iterate using a for loop\n",
    "for num in counter:\n",
    "    print(num) "
   ]
  },
  {
   "cell_type": "markdown",
   "id": "13e06c38-5b80-4a40-afe6-b17121f2034f",
   "metadata": {},
   "source": [
    "#### 5. Generators (A Type of Iterator):\n",
    "A generator is a simpler way to create iterators using functions and the yield keyword.\n",
    "\n",
    "##### Example of a Generator:"
   ]
  },
  {
   "cell_type": "code",
   "execution_count": 80,
   "id": "4d2d405a-c50e-4d09-ab3a-1306c6e97e90",
   "metadata": {},
   "outputs": [
    {
     "name": "stdout",
     "output_type": "stream",
     "text": [
      "5\n",
      "4\n",
      "3\n",
      "2\n",
      "1\n"
     ]
    }
   ],
   "source": [
    "def countdown(n):\n",
    "    while n > 0:\n",
    "        yield n\n",
    "        n -= 1\n",
    "\n",
    "# Get a generator object\n",
    "gen = countdown(5)\n",
    "\n",
    "# Iterate through the generator\n",
    "for num in gen:\n",
    "    print(num)"
   ]
  },
  {
   "cell_type": "markdown",
   "id": "848605b7-be77-4279-aad2-8442f227b0ac",
   "metadata": {},
   "source": [
    "#### Summary:\n",
    "##### Iterable:\n",
    "Any object capable of returning its elements one at a time (supports __iter__()).\n",
    "##### Iterator: \n",
    "An object that represents a stream of data and supports both __iter__() and __next__(). It is used to get elements from an iterable one at a time."
   ]
  },
  {
   "cell_type": "markdown",
   "id": "6d858236-b720-47d0-8900-dfd678e8f370",
   "metadata": {},
   "source": [
    "### Que 6.  Explain the concept of generators in Python and how they are defined."
   ]
  },
  {
   "cell_type": "markdown",
   "id": "8d41d657-d731-4250-9c8e-694c67abbbed",
   "metadata": {},
   "source": [
    "In Python, a generator is a special type of iterator that allows you to iterate over a sequence of values lazily, meaning the values are generated on-the-fly as you iterate over them, rather than being stored in memory all at once. This makes generators very memory-efficient, especially when dealing with large datasets or streams of data."
   ]
  },
  {
   "cell_type": "markdown",
   "id": "1f1d0db1-3ce0-4161-97bb-2d39526ae5c5",
   "metadata": {},
   "source": [
    "How Generators Work\n",
    "Generators work by using a yield statement instead of a return statement in a function. When a function contains a yield statement, it automatically becomes a generator function. When the generator function is called, it doesn’t actually execute the function body immediately. Instead, it returns a generator object that can be iterated over.\n",
    "\n",
    "When you iterate over a generator, the function's code is executed up to the point of the first yield statement. The value specified by yield is then returned to the caller, and the function's state is preserved. The next time the generator is iterated, execution resumes from where it left off, continuing until the next yield is encountered."
   ]
  },
  {
   "cell_type": "markdown",
   "id": "b32601b4-3a94-4a2d-a5dc-9a83048a8149",
   "metadata": {},
   "source": [
    "Example of a Generator\n",
    "Here’s an example of a simple generator function that yields a sequence of numbers:"
   ]
  },
  {
   "cell_type": "code",
   "execution_count": 2,
   "id": "f42663b7-af67-405b-92d1-f59ee450685b",
   "metadata": {},
   "outputs": [],
   "source": [
    "def count_up_to(max):\n",
    "    count = 1\n",
    "    while count <= max:\n",
    "        yield count\n",
    "        count += 1"
   ]
  },
  {
   "cell_type": "markdown",
   "id": "207b5906-f062-40a2-b7a6-4f3f5c8425c9",
   "metadata": {},
   "source": [
    "You can use this generator as follows:"
   ]
  },
  {
   "cell_type": "code",
   "execution_count": 3,
   "id": "8503e95a-fc38-449a-9340-54086b25ba69",
   "metadata": {},
   "outputs": [
    {
     "name": "stdout",
     "output_type": "stream",
     "text": [
      "1\n",
      "2\n",
      "3\n",
      "4\n",
      "5\n"
     ]
    }
   ],
   "source": [
    "counter = count_up_to(5)\n",
    "for number in counter:\n",
    "    print(number)"
   ]
  },
  {
   "cell_type": "markdown",
   "id": "80f580b2-197a-4079-af5e-f0a07cd1c81e",
   "metadata": {},
   "source": [
    "#### Key Points-\n",
    "\n",
    "Memory Efficiency: Generators are memory-efficient because they generate values one at a time and only as needed. This is particularly useful for handling large data streams or sequences.\n",
    "Lazy Evaluation: Values are produced on-the-fly and not stored in memory.\n",
    "Infinite Sequences: Generators are well-suited for representing infinite sequences, like an endless stream of numbers, since they don’t require all values to be computed and stored at once."
   ]
  },
  {
   "cell_type": "markdown",
   "id": "0e0233f4-1e46-43ab-a555-f7a9349f2680",
   "metadata": {},
   "source": [
    "Generator Expressions\n",
    "In addition to generator functions, Python also supports generator expressions, which are similar to list comprehensions but produce a generator instead of a list.\n",
    "\n",
    "##### Example:"
   ]
  },
  {
   "cell_type": "code",
   "execution_count": 13,
   "id": "7a0c4cce-5a30-4881-a3e3-7da8d46344a0",
   "metadata": {},
   "outputs": [],
   "source": [
    "squares = (x * x for x in range(10))"
   ]
  },
  {
   "cell_type": "markdown",
   "id": "6fceb2c0-9e8e-4134-a999-4b8f82d1fabe",
   "metadata": {},
   "source": [
    "This expression creates a generator that yields the squares of numbers from 0 to 9. You can iterate over it in the same way:"
   ]
  },
  {
   "cell_type": "code",
   "execution_count": 14,
   "id": "df1a3e93-ba33-45d2-8c7e-3baec83a535a",
   "metadata": {},
   "outputs": [
    {
     "name": "stdout",
     "output_type": "stream",
     "text": [
      "0\n",
      "1\n",
      "4\n",
      "9\n",
      "16\n",
      "25\n",
      "36\n",
      "49\n",
      "64\n",
      "81\n"
     ]
    }
   ],
   "source": [
    "for square in squares:\n",
    "    print(square)"
   ]
  },
  {
   "cell_type": "markdown",
   "id": "a79a0988-bc95-477e-bb6e-36abd34327c1",
   "metadata": {},
   "source": [
    "#### Conclusion:\n",
    "Generators are a powerful tool in Python for creating iterators with less memory overhead and for managing large or infinite sequences of data efficiently. They allow for lazy evaluation, making them ideal for scenarios where you don’t need all values at once."
   ]
  },
  {
   "cell_type": "markdown",
   "id": "eef20818-5fef-4bf8-b7c7-d1c1f886ba35",
   "metadata": {},
   "source": [
    "### Que 7. What are the advantages of using generators over regular functions?"
   ]
  },
  {
   "cell_type": "markdown",
   "id": "aea0bb2d-571a-4e1d-8458-f939cc0cf5fe",
   "metadata": {},
   "source": [
    "Generators offer several advantages over regular functions, particularly when it comes to memory usage, performance, and code readability. Here are the key benefits:"
   ]
  },
  {
   "cell_type": "markdown",
   "id": "006334ed-3c1e-4563-ab98-2f83eade1b60",
   "metadata": {},
   "source": [
    "#### 1. Memory Efficiency\n",
    "\n",
    "Lazy Evaluation: Generators produce items one at a time and only when needed, rather than generating all items at once and storing them in memory. This is especially useful when dealing with large datasets or streams of data.\n",
    "\n",
    "Reduced Memory Footprint:Since generators yield items one by one, they don’t require the entire sequence to be stored in memory. This can significantly reduce the memory footprint compared to regular functions that return lists or other collections.\n"
   ]
  },
  {
   "cell_type": "markdown",
   "id": "0654cdf8-0b01-4ce2-b501-641c703a4631",
   "metadata": {},
   "source": [
    "#### 2. Performance\n",
    "\n",
    "Improved Performance for Large Data: For operations on large datasets, generators can lead to faster execution because they avoid the overhead of loading the entire dataset into memory at once.\n",
    "\n",
    "Pipelining: Generators can be used in a pipeline, where the output of one generator is fed directly as input to another, enabling efficient data processing in a streaming manner.\n"
   ]
  },
  {
   "cell_type": "markdown",
   "id": "820510f6-9f22-47e8-a98c-106d719f4749",
   "metadata": {},
   "source": [
    "#### 3. Infinite Sequences\n",
    "\n",
    "Handling Infinite Data Streams: Generators are ideal for representing infinite sequences, such as continuous data streams or endless mathematical sequences, because they generate values as needed rather than trying to create an infinite list"
   ]
  },
  {
   "cell_type": "markdown",
   "id": "9dc96b39-c9af-462e-86d2-f0c5f8d380ed",
   "metadata": {},
   "source": [
    "#### 4. Simpler Code\n",
    "\n",
    "Cleaner Code for Iteration: Generators allow you to write more readable and maintainable code for iteration. The use of yield often makes the logic of iteration more explicit and easier to follow.\n",
    "\n",
    "State Preservation: Generators automatically maintain their state between each iteration, making it easier to implement complex iteration logic without manually managing state variables."
   ]
  },
  {
   "cell_type": "markdown",
   "id": "34f00d6b-3ea7-4a6a-90ff-225cce73afb1",
   "metadata": {},
   "source": [
    "#### 5. Time Efficiency\n",
    "\n",
    "Faster Start Time: Because a generator produces its first value without generating the entire sequence, you can start processing data faster compared to regular functions that return a fully computed list or sequence."
   ]
  },
  {
   "cell_type": "markdown",
   "id": "dd908645-d88c-4878-8191-5e3a6e225105",
   "metadata": {},
   "source": [
    "#### 6. Composability\n",
    "\n",
    "Pipeline Construction: Generators can be composed easily, allowing you to build pipelines where data is processed in stages. This composability can lead to more modular and reusable code.\n",
    "\n",
    "Example Comparison\n",
    "\n",
    "##### Regular Function:"
   ]
  },
  {
   "cell_type": "code",
   "execution_count": 15,
   "id": "1bc335ce-0b50-4b89-9c84-0ea3546aa5e4",
   "metadata": {},
   "outputs": [],
   "source": [
    "def square_numbers(nums):\n",
    "    result = []\n",
    "    for i in nums:\n",
    "        result.append(i * i)\n",
    "    return result\n",
    "\n",
    "squares = square_numbers(range(1000000))"
   ]
  },
  {
   "cell_type": "markdown",
   "id": "d1bfb24f-fa71-4923-95eb-d5185486f888",
   "metadata": {},
   "source": [
    "##### Generator Function:"
   ]
  },
  {
   "cell_type": "code",
   "execution_count": 18,
   "id": "760ff54f-e23b-4e35-962e-d531f65d8842",
   "metadata": {},
   "outputs": [],
   "source": [
    "def square_numbers(nums):\n",
    "    for i in nums:\n",
    "        yield i * i\n",
    "\n",
    "squares = square_numbers(range(1000000))"
   ]
  },
  {
   "cell_type": "markdown",
   "id": "5b9f928f-3edd-471a-a061-b18b908acd9e",
   "metadata": {},
   "source": [
    "Memory Usage: The regular function creates and returns a list, which requires storing all squared values in memory at once. The generator function, on the other hand, computes each square on-the-fly, significantly reducing memory usage.\n",
    "\n",
    "Execution Speed: The generator function can start yielding results immediately without waiting for the entire list to be computed, making the program more responsive."
   ]
  },
  {
   "cell_type": "markdown",
   "id": "f9b986a4-18b5-4d7f-81db-16a0a83bfcb2",
   "metadata": {},
   "source": [
    "#### Conclusion:\n",
    "\n",
    "Generators offer significant advantages over regular functions when dealing with large datasets, infinite sequences, or when you need more efficient memory and time management. They lead to more efficient, readable, and maintainable code, making them a valuable tool in Python programming."
   ]
  },
  {
   "cell_type": "markdown",
   "id": "c73da309-c9fc-4a24-b478-d9a6f75bd659",
   "metadata": {},
   "source": [
    "### Que 8. What is a lambda function in Python and when is it typically used?\n",
    "\n",
    "A lambda function in Python is a small, anonymous function defined with the lambda keyword. Unlike regular functions defined using def, lambda functions are limited to a single expression and do not have a name (hence \"anonymous\"). They are typically used for short, simple operations that are needed temporarily and are not complex enough to require a full function definition.\n",
    "\n",
    "Syntax of a Lambda Function\n",
    "The syntax for a lambda function is:"
   ]
  },
  {
   "cell_type": "code",
   "execution_count": 19,
   "id": "b34d2c80-79ef-4eb8-8244-224823e732c5",
   "metadata": {},
   "outputs": [
    {
     "data": {
      "text/plain": [
       "<function __main__.<lambda>(arguments)>"
      ]
     },
     "execution_count": 19,
     "metadata": {},
     "output_type": "execute_result"
    }
   ],
   "source": [
    "lambda arguments: expression"
   ]
  },
  {
   "cell_type": "markdown",
   "id": "513d39f6-ec23-4711-9cf0-c86d5ef43118",
   "metadata": {},
   "source": [
    "arguments: A comma-separated list of inputs (just like the arguments in a regular function).\n",
    "\n",
    "expression: A single expression that is evaluated and returned by the lambda function."
   ]
  },
  {
   "cell_type": "markdown",
   "id": "de36a927-d254-42c9-9c3d-95739e913455",
   "metadata": {},
   "source": [
    "Example of a Lambda Function\n",
    "\n",
    "Here’s a simple example that demonstrates how a lambda function works:"
   ]
  },
  {
   "cell_type": "code",
   "execution_count": 21,
   "id": "5c7c764f-877b-495f-af4e-87432175d091",
   "metadata": {},
   "outputs": [
    {
     "name": "stdout",
     "output_type": "stream",
     "text": [
      "8\n"
     ]
    }
   ],
   "source": [
    "add = lambda x, y: x + y\n",
    "result = add(3, 5)\n",
    "print(result)"
   ]
  },
  {
   "cell_type": "markdown",
   "id": "7d2ed407-05a7-47ed-a7cf-edd9fa919a3c",
   "metadata": {},
   "source": [
    "In this example, lambda x, y: x + y creates a lambda function that takes two arguments, x and y, and returns their sum. The lambda function is then assigned to the variable add, which can be called like a normal function.\n",
    "Typical Use Cases for Lambda Functions\n",
    "Lambda functions are typically used in situations where a small, throwaway function is needed for a short period of time. Some common scenarios include:\n",
    "\n",
    "Using with Functions Like map(), filter(), and reduce():\n",
    "\n",
    "#### 1.map(): \n",
    "Applies a function to all items in an input list (or other iterable)."
   ]
  },
  {
   "cell_type": "code",
   "execution_count": 22,
   "id": "4195345a-1f9c-425a-8160-622042841b86",
   "metadata": {},
   "outputs": [
    {
     "name": "stdout",
     "output_type": "stream",
     "text": [
      "[1, 4, 9, 16, 25]\n"
     ]
    }
   ],
   "source": [
    "numbers = [1, 2, 3, 4, 5]\n",
    "squares = map(lambda x: x * x, numbers)\n",
    "print(list(squares))"
   ]
  },
  {
   "cell_type": "markdown",
   "id": "180e95c7-15fd-4d45-a069-bfa52d9eae6a",
   "metadata": {},
   "source": [
    "#### 2.filter(): \n",
    "Filters items in an iterable based on a function that returns True or False."
   ]
  },
  {
   "cell_type": "markdown",
   "id": "1d772271-1d23-489e-bbce-c2e01321d555",
   "metadata": {},
   "source": [
    "#### 3.reduce(): \n",
    "(from functools) Reduces an iterable to a single value using a binary function."
   ]
  },
  {
   "cell_type": "markdown",
   "id": "8432c658-2f8c-430e-b5da-f96c7bc14ff5",
   "metadata": {},
   "source": [
    "2. Sorting and Ordering with sorted() and sort(): Lambda functions can be used to define custom sorting criteria."
   ]
  },
  {
   "cell_type": "code",
   "execution_count": 23,
   "id": "d7285fe8-6c0c-4e3b-9da5-06eab06ac143",
   "metadata": {},
   "outputs": [
    {
     "name": "stdout",
     "output_type": "stream",
     "text": [
      "[(4, 1), (1, 2), (2, 3), (3, 3)]\n"
     ]
    }
   ],
   "source": [
    "points = [(2, 3), (1, 2), (4, 1), (3, 3)]\n",
    "sorted_points = sorted(points, key=lambda point: point[1])\n",
    "print(sorted_points)"
   ]
  },
  {
   "cell_type": "markdown",
   "id": "8b688a96-bbc3-4592-ae10-d57d7f52571e",
   "metadata": {},
   "source": [
    "#### 3. Inline Callbacks: \n",
    "When a function needs to be passed as an argument for callbacks or event handling, lambda functions can be useful."
   ]
  },
  {
   "cell_type": "code",
   "execution_count": 24,
   "id": "9971a475-1c76-4b57-8bf0-7d55e71431dc",
   "metadata": {},
   "outputs": [
    {
     "name": "stdout",
     "output_type": "stream",
     "text": [
      "25\n"
     ]
    }
   ],
   "source": [
    "def apply_function(f, value):\n",
    "    return f(value)\n",
    "\n",
    "result = apply_function(lambda x: x ** 2, 5)\n",
    "print(result)"
   ]
  },
  {
   "cell_type": "markdown",
   "id": "1561b638-776c-4603-8992-60362fbf5069",
   "metadata": {},
   "source": [
    "#### 4. Simple Operations in List Comprehensions or Data Structures:\n",
    "Sometimes, lambda functions are used for quick, simple operations within a list comprehension or to initialize data structures."
   ]
  },
  {
   "cell_type": "code",
   "execution_count": 25,
   "id": "ba249e6e-fd89-490a-a941-310196d800e5",
   "metadata": {},
   "outputs": [
    {
     "name": "stdout",
     "output_type": "stream",
     "text": [
      "[0, 2, 4, 6, 8]\n"
     ]
    }
   ],
   "source": [
    "multiply_by_two = lambda x: x * 2\n",
    "numbers = [multiply_by_two(x) for x in range(5)]\n",
    "print(numbers)"
   ]
  },
  {
   "cell_type": "markdown",
   "id": "2aec92d4-0107-4253-851d-8a29a27395d6",
   "metadata": {},
   "source": [
    "#### Limitations of Lambda Functions\n",
    "#####Single Expression: \n",
    "Lambda functions are limited to a single expression. They cannot contain statements, so complex logic that requires multiple lines or statements is better handled with a regular function.\n",
    "No Annotations or Docstrings: Lambda functions are anonymous and do not support function annotations or docstrings, making them less informative and harder to debug.\n",
    "##### Reduced Readability: \n",
    "Overusing lambda functions can make code harder to read, especially for more complex operations.\n",
    "####Conclusion\n",
    "Lambda functions are a convenient way to create small, throwaway functions on the fly for simple tasks. They are commonly used in situations where a short function is needed for a brief period, such as with map(), filter(), sorted(), or as inline callbacks. However, for more complex logic or when readability is a concern, it’s usually better to define a regular function.\n",
    "\n",
    "### Que 9.  Explain the purpose and usage of the `map()` function in Python\n",
    "The map() function in Python is used to apply a given function to all the items in an input iterable (such as a list, tuple, or set) and return a map object (which is an iterator) containing the results. The primary purpose of map() is to transform data by applying a function to each item in an iterable, making it a convenient tool for processing and transforming collections of data.\n",
    "Syntax of map()-\n",
    "map(function, iterable, ...)\n",
    "#### 1.function: \n",
    "The function that you want to apply to each item in the iterable(s). This function should take one or more arguments, depending on how many iterables you pass.\n",
    "#### 2.Iterable: \n",
    "The iterable (e.g., list, tuple) that you want to process.\n",
    "You can pass multiple iterables if the function requires more than one argument. In this case, map() will apply the function to corresponding items from each iterable in parallel.\n",
    "\n",
    "##### Example of map() with a Single Iterable\n",
    "Here’s a simple example where map() is used to square each number in a list:"
   ]
  },
  {
   "cell_type": "code",
   "execution_count": 26,
   "id": "8d324289-0a59-40ec-b0d3-b80dbf4b42df",
   "metadata": {},
   "outputs": [
    {
     "name": "stdout",
     "output_type": "stream",
     "text": [
      "[1, 4, 9, 16, 25]\n"
     ]
    }
   ],
   "source": [
    "numbers = [1, 2, 3, 4, 5]\n",
    "squared_numbers = map(lambda x: x ** 2, numbers)\n",
    "print(list(squared_numbers))"
   ]
  },
  {
   "cell_type": "markdown",
   "id": "0327388d-3c04-4fe0-aeb7-989aaaa5bd0d",
   "metadata": {},
   "source": [
    "##### In this example:\n",
    "\n",
    "The lambda x: x ** 2 function squares each element.\n",
    "\n",
    "map() applies this function to each item in the numbers list.\n",
    "\n",
    "The result is a map object, which is converted to a list to display the results.\n",
    "Example of map() with Multiple Iterables\n",
    "\n",
    "##### Example of map() with multiple iterables. \n",
    "\n",
    "Here’s an example where two lists are added element-wise:"
   ]
  },
  {
   "cell_type": "code",
   "execution_count": 27,
   "id": "486aa41c-7c88-4ba4-86cf-4066218cdbfb",
   "metadata": {},
   "outputs": [
    {
     "name": "stdout",
     "output_type": "stream",
     "text": [
      "[5, 7, 9]\n"
     ]
    }
   ],
   "source": [
    "numbers1 = [1, 2, 3]\n",
    "numbers2 = [4, 5, 6]\n",
    "summed_numbers = map(lambda x, y: x + y, numbers1, numbers2)\n",
    "print(list(summed_numbers))"
   ]
  },
  {
   "cell_type": "markdown",
   "id": "2a441292-34be-40c6-9684-6ee83da7f472",
   "metadata": {},
   "source": [
    "##### In this example:\n",
    "\n",
    "The lambda x, y: x + y function adds corresponding elements from numbers1 and numbers2.\n",
    "\n",
    "map() processes both lists in parallel, applying the function to each pair of elements.\n",
    "\n",
    "#### Key Points About map()\n",
    "\n",
    "##### Returns an Iterator: \n",
    "map() returns a map object, which is an iterator. This means that the results are computed lazily and can be iterated over. You often convert the map object to a list, tuple, or other data structure to see the results immediately.\n",
    "\n",
    "##### Works with Any Iterable: \n",
    "map() can work with any iterable, not just lists. This includes tuples, sets, strings, and even custom iterables.\n",
    "\n",
    "##### Function Must Accept Multiple Arguments If Multiple Iterables Are Provided: \n",
    "If you pass multiple iterables to map(), the function must accept that many arguments, and the iterables must be of the same length.\n",
    "\n",
    "#### Practical Usage of map()\n",
    "\n",
    "##### Data Transformation: \n",
    "map() is commonly used for transforming data. For example, converting temperatures from Celsius to Fahrenheit, or extracting a particular field from a list of dictionaries.\n",
    "\n",
    "##### Function Application: \n",
    "When you need to apply a function to each item in a collection, map() provides a concise and readable way to do this without writing an explicit loop.\n",
    "\n",
    "##### Element-wise Operations:\n",
    "map() is useful for performing element-wise operations on multiple sequences, such as adding corresponding elements from two lists.\n",
    "\n",
    "#### Conclusion\n",
    "\n",
    "The map() function is a powerful and flexible tool in Python for applying a function to every item in one or more iterables. It allows for clean and efficient data transformation, making it an essential function for data processing tasks. Since map() returns an iterator, it is also memory efficient, especially when dealing with large datasets.\n",
    "\n",
    "\n",
    "### Que 10 What is the difference between `map()`, `reduce()`, and `filter()` functions in Python?\n",
    "In Python, map(), reduce(), and filter() are higher-order functions that allow you to process and transform data in iterables like lists, tuples, or sets. Each of these functions serves a different purpose:\n",
    "#### 1. map() Function\n",
    "\n",
    "Purpose: \n",
    "The map() function applies a given function to each item in an iterable and returns an iterator (a map object) with the results.\n",
    "\n",
    "Usage: \n",
    "It is used when you need to transform or process each element of an iterable independently.\n",
    "\n",
    "##### Syntax:\n",
    "map(function, iterable, ...)\n",
    "\n",
    "##### Example:"
   ]
  },
  {
   "cell_type": "code",
   "execution_count": 28,
   "id": "bc058ef3-471f-41c9-bf1c-27d7e4b728c9",
   "metadata": {},
   "outputs": [
    {
     "name": "stdout",
     "output_type": "stream",
     "text": [
      "[1, 4, 9, 16, 25]\n"
     ]
    }
   ],
   "source": [
    "numbers = [1, 2, 3, 4, 5]\n",
    "squares = map(lambda x: x ** 2, numbers)\n",
    "print(list(squares))"
   ]
  },
  {
   "cell_type": "markdown",
   "id": "d9233f53-3271-4b12-af9e-83ada420a84d",
   "metadata": {},
   "source": [
    "Here, map() applies the lambda function to square each number in the list.\n",
    "#### 2. filter() Function\n",
    "\n",
    "Purpose: \n",
    "The filter() function applies a function to each item in an iterable and returns an iterator (a filter object) containing only the items for which the function returns True.\n",
    "\n",
    "Usage: \n",
    "It is used when you want to filter out elements from an iterable based on some condition.\n",
    "\n",
    "##### Syntax:\n",
    "filter(function, iterable)\n",
    "\n",
    "##### Example:"
   ]
  },
  {
   "cell_type": "code",
   "execution_count": 29,
   "id": "60befa1d-b645-47df-a61b-81534bfac4d4",
   "metadata": {},
   "outputs": [
    {
     "name": "stdout",
     "output_type": "stream",
     "text": [
      "[2, 4]\n"
     ]
    }
   ],
   "source": [
    "numbers = [1, 2, 3, 4, 5]\n",
    "even_numbers = filter(lambda x: x % 2 == 0, numbers)\n",
    "print(list(even_numbers))"
   ]
  },
  {
   "cell_type": "markdown",
   "id": "e31cbeec-e112-4ed0-9f1d-932e0b190976",
   "metadata": {},
   "source": [
    "In this case, filter() selects only the even numbers from the list.\n",
    "#### 3. reduce() Function\n",
    "\n",
    "Purpose: \n",
    "The reduce() function, from the functools module, applies a given function cumulatively to the items of an iterable, from left to right, so as to reduce the iterable to a single value.\n",
    "\n",
    "Usage: \n",
    "It is used when you want to reduce a sequence of elements to a single cumulative value.\n",
    "\n",
    "##### Syntax:\n",
    "from functools import reduce\n",
    "reduce(function, iterable, [initializer])\n",
    "\n",
    "##### Example:"
   ]
  },
  {
   "cell_type": "code",
   "execution_count": 30,
   "id": "e8912f60-6d2e-4287-9a69-8cafddd424a0",
   "metadata": {},
   "outputs": [
    {
     "name": "stdout",
     "output_type": "stream",
     "text": [
      "15\n"
     ]
    }
   ],
   "source": [
    "from functools import reduce\n",
    "numbers = [1, 2, 3, 4, 5]\n",
    "sum_of_numbers = reduce(lambda x, y: x + y, numbers)\n",
    "print(sum_of_numbers)"
   ]
  },
  {
   "cell_type": "markdown",
   "id": "609cc12b-6cd6-4c16-87b7-4a559301dc23",
   "metadata": {},
   "source": [
    "### Que 11.  the internal mechanism for sum operation using  reduce function on this given list:[47,11,42,13]; "
   ]
  },
  {
   "cell_type": "code",
   "execution_count": null,
   "id": "6de8a68b-8e21-441c-b5f3-7adc0b8833fc",
   "metadata": {},
   "outputs": [],
   "source": []
  },
  {
   "cell_type": "markdown",
   "id": "85d6e6ba-c2ee-4332-878d-e591486aba2f",
   "metadata": {},
   "source": [
    "# Practical Questions:"
   ]
  },
  {
   "cell_type": "markdown",
   "id": "13291de3-01ce-459d-bf31-dcfd4118c57d",
   "metadata": {},
   "source": [
    "### Que 1. Write a Python function that takes a list of numbers as input and returns the sum of all even numbers in the list."
   ]
  },
  {
   "cell_type": "markdown",
   "id": "bdf3df31-b880-4ea9-84ba-4287f9783b65",
   "metadata": {},
   "source": [
    "A Python function that takes a list of numbers as input and returns the sum of all even numbers:"
   ]
  },
  {
   "cell_type": "code",
   "execution_count": 33,
   "id": "f642dbf0-a16e-400b-8795-86b89c65b0ba",
   "metadata": {},
   "outputs": [],
   "source": [
    "def sum_of_even_numbers(numbers):\n",
    "    return sum(num for num in numbers if num % 2 == 0)"
   ]
  },
  {
   "cell_type": "markdown",
   "id": "80d80487-9cbe-4ef2-a66b-3812681dbabe",
   "metadata": {},
   "source": [
    "#### Example usage:"
   ]
  },
  {
   "cell_type": "code",
   "execution_count": 34,
   "id": "09b95825-c7e6-4c6d-972d-b8e0b1ab1364",
   "metadata": {},
   "outputs": [
    {
     "name": "stdout",
     "output_type": "stream",
     "text": [
      "12\n"
     ]
    }
   ],
   "source": [
    "numbers_list = [1, 2, 3, 4, 5, 6]\n",
    "print(sum_of_even_numbers(numbers_list))"
   ]
  },
  {
   "cell_type": "markdown",
   "id": "4949c11d-0570-4dd5-8367-210a537f786e",
   "metadata": {},
   "source": [
    "This function uses a list comprehension to filter out the even numbers and then sums them up."
   ]
  },
  {
   "cell_type": "markdown",
   "id": "6c5b048f-9dc1-4464-89cc-01d99b8936d8",
   "metadata": {},
   "source": [
    "### Que 2. Create a Python function that accepts a string and returns the reverse of that string."
   ]
  },
  {
   "cell_type": "markdown",
   "id": "1e7606eb-3f22-4d16-a039-9277a487d866",
   "metadata": {},
   "source": [
    "A Python function that accepts a string and returns its reverse:"
   ]
  },
  {
   "cell_type": "code",
   "execution_count": 36,
   "id": "7ec76279-ef00-45c8-934c-6c2529bfc399",
   "metadata": {},
   "outputs": [],
   "source": [
    "def reverse_string(s):\n",
    "    return s[::-1]"
   ]
  },
  {
   "cell_type": "markdown",
   "id": "33142526-58c6-4a60-b852-7d3f91207b7b",
   "metadata": {},
   "source": [
    "#### Example usage:"
   ]
  },
  {
   "cell_type": "code",
   "execution_count": 37,
   "id": "5ce0128d-67b2-41fc-9d9b-b8532c8e841f",
   "metadata": {},
   "outputs": [
    {
     "name": "stdout",
     "output_type": "stream",
     "text": [
      "olleh\n"
     ]
    }
   ],
   "source": [
    "string = \"hello\"\n",
    "print(reverse_string(string))"
   ]
  },
  {
   "cell_type": "code",
   "execution_count": 38,
   "id": "6737c991-aa84-4175-a102-20af621565b0",
   "metadata": {},
   "outputs": [
    {
     "name": "stdout",
     "output_type": "stream",
     "text": [
      "namxaL\n"
     ]
    }
   ],
   "source": [
    "name = \"Laxman\"\n",
    "print(reverse_string(name))"
   ]
  },
  {
   "cell_type": "markdown",
   "id": "a27e28cf-d052-4baf-bf4a-dc61c883ea0e",
   "metadata": {},
   "source": [
    "This function uses Python's slicing technique to reverse the string."
   ]
  },
  {
   "cell_type": "markdown",
   "id": "2513e203-ad54-461e-8e82-8e598ceb7114",
   "metadata": {},
   "source": [
    "### Que 3. Implement a Python function that takes a list of integers and returns a new list containing the squares of each number."
   ]
  },
  {
   "cell_type": "markdown",
   "id": "43c59ffd-cae6-4d7a-a73b-fc72d5900af4",
   "metadata": {},
   "source": [
    "A Python function that takes a list of integers and returns a new list with the squares of each number:"
   ]
  },
  {
   "cell_type": "code",
   "execution_count": 40,
   "id": "d78936b0-29ad-4a5a-9a26-cd515633f5c8",
   "metadata": {},
   "outputs": [],
   "source": [
    "def square_numbers(numbers):\n",
    "    return [num ** 2 for num in numbers]"
   ]
  },
  {
   "cell_type": "markdown",
   "id": "dc93dd1c-85a7-4047-8e84-daef338752b1",
   "metadata": {},
   "source": [
    "#### Example usage:"
   ]
  },
  {
   "cell_type": "code",
   "execution_count": 41,
   "id": "d4b607ec-5e24-4bfb-9536-7fc6c77b2b2b",
   "metadata": {},
   "outputs": [
    {
     "name": "stdout",
     "output_type": "stream",
     "text": [
      "[1, 4, 9, 16, 25]\n"
     ]
    }
   ],
   "source": [
    "numbers_list = [1, 2, 3, 4, 5]\n",
    "print(square_numbers(numbers_list))"
   ]
  },
  {
   "cell_type": "markdown",
   "id": "ff83af1b-4119-417b-b898-9ec808cd10aa",
   "metadata": {},
   "source": [
    "This function uses a list comprehension to iterate through the input list and square each element."
   ]
  },
  {
   "cell_type": "markdown",
   "id": "9f781d04-fccc-4077-b3c9-610fd788964a",
   "metadata": {},
   "source": [
    "### Que 4. Write a Python function that checks if a given number is prime or not from 1 to 200."
   ]
  },
  {
   "cell_type": "markdown",
   "id": "c812515c-afe3-4075-975b-0aad74851c80",
   "metadata": {},
   "source": [
    "A Python function that checks if a given number (between 1 and 200) is prime or not:"
   ]
  },
  {
   "cell_type": "code",
   "execution_count": 42,
   "id": "0a8160d0-891c-46f8-a219-2a7af8392460",
   "metadata": {},
   "outputs": [],
   "source": [
    "def is_prime(n):\n",
    "    if n <= 1:\n",
    "        return False\n",
    "    for i in range(2, int(n**0.5) + 1):\n",
    "        if n % i == 0:\n",
    "            return False\n",
    "    return True"
   ]
  },
  {
   "cell_type": "markdown",
   "id": "6288bf6c-5d63-4a77-aabd-a3167501071a",
   "metadata": {},
   "source": [
    "#### Example usage:"
   ]
  },
  {
   "cell_type": "code",
   "execution_count": 43,
   "id": "166827cd-d7fb-4ace-a9fe-c9e499444d7b",
   "metadata": {},
   "outputs": [
    {
     "name": "stdout",
     "output_type": "stream",
     "text": [
      "True\n"
     ]
    }
   ],
   "source": [
    "number = 29\n",
    "print(is_prime(number)) "
   ]
  },
  {
   "cell_type": "markdown",
   "id": "562f89c5-8882-4645-8d8a-2caba897a99c",
   "metadata": {},
   "source": [
    "#### Explanation:\n",
    "- The function checks if the number n is less than or equal to 1, returning False because primes are greater than 1.\n",
    "- For numbers greater than 1, it checks divisibility from 2 up to the square root of n (using n**0.5), returning False if a divisor is found.\n",
    "- If no divisors are found, the number is prime.\n",
    "\n",
    "##### To check numbers from 1 to 200, you can loop through this range:"
   ]
  },
  {
   "cell_type": "code",
   "execution_count": 44,
   "id": "c3f9c48a-20f5-41f2-a680-157b32aebe1c",
   "metadata": {},
   "outputs": [
    {
     "name": "stdout",
     "output_type": "stream",
     "text": [
      "2 is a prime number\n",
      "3 is a prime number\n",
      "5 is a prime number\n",
      "7 is a prime number\n",
      "11 is a prime number\n",
      "13 is a prime number\n",
      "17 is a prime number\n",
      "19 is a prime number\n",
      "23 is a prime number\n",
      "29 is a prime number\n",
      "31 is a prime number\n",
      "37 is a prime number\n",
      "41 is a prime number\n",
      "43 is a prime number\n",
      "47 is a prime number\n",
      "53 is a prime number\n",
      "59 is a prime number\n",
      "61 is a prime number\n",
      "67 is a prime number\n",
      "71 is a prime number\n",
      "73 is a prime number\n",
      "79 is a prime number\n",
      "83 is a prime number\n",
      "89 is a prime number\n",
      "97 is a prime number\n",
      "101 is a prime number\n",
      "103 is a prime number\n",
      "107 is a prime number\n",
      "109 is a prime number\n",
      "113 is a prime number\n",
      "127 is a prime number\n",
      "131 is a prime number\n",
      "137 is a prime number\n",
      "139 is a prime number\n",
      "149 is a prime number\n",
      "151 is a prime number\n",
      "157 is a prime number\n",
      "163 is a prime number\n",
      "167 is a prime number\n",
      "173 is a prime number\n",
      "179 is a prime number\n",
      "181 is a prime number\n",
      "191 is a prime number\n",
      "193 is a prime number\n",
      "197 is a prime number\n",
      "199 is a prime number\n"
     ]
    }
   ],
   "source": [
    "for num in range(1, 201):\n",
    "    if is_prime(num):\n",
    "        print(f\"{num} is a prime number\")"
   ]
  },
  {
   "cell_type": "markdown",
   "id": "5d2269d2-f648-49a9-aeda-5c66403044b9",
   "metadata": {},
   "source": [
    "### Que 5. Create an iterator class in Python that generates the Fibonacci sequence up to a specified number of terms."
   ]
  },
  {
   "cell_type": "code",
   "execution_count": 45,
   "id": "beb3867e-e077-468d-a5ec-0b8c44aa5992",
   "metadata": {},
   "outputs": [],
   "source": [
    "class FibonacciIterator:\n",
    "    def __init__(self, num_terms):\n",
    "        self.num_terms = num_terms  # Number of terms to generate\n",
    "        self.current = 0            # First Fibonacci number\n",
    "        self.next = 1               # Second Fibonacci number\n",
    "        self.index = 0              # Tracks the current term count"
   ]
  },
  {
   "cell_type": "code",
   "execution_count": 46,
   "id": "de7237f4-5a53-4e0c-a334-8ffb7ab1702b",
   "metadata": {},
   "outputs": [],
   "source": [
    "def __iter__(self):\n",
    "        return self"
   ]
  },
  {
   "cell_type": "code",
   "execution_count": 47,
   "id": "47551b9b-38f4-45e1-bb6e-e0f2c6006883",
   "metadata": {},
   "outputs": [],
   "source": [
    "def __next__(self):\n",
    "        if self.index >= self.num_terms:\n",
    "            raise StopIteration\n",
    "        fib_number = self.current\n",
    "        self.current, self.next = self.next, self.current + self.next"
   ]
  },
  {
   "cell_type": "code",
   "execution_count": 51,
   "id": "adb7ea89-f1fe-495c-86b7-a1e5dc5b86b7",
   "metadata": {},
   "outputs": [],
   "source": [
    "def __next__(self):\n",
    "        if self.index >= self.num_terms:\n",
    "            raise StopIteration\n",
    "        fib_number = self.current\n",
    "        self.current, self.next = self.next, self.current + self.next  # Update to the next Fibonacci number\n",
    "        self.index += 1\n",
    "        return fib_number"
   ]
  },
  {
   "cell_type": "markdown",
   "id": "694fb235-9a2e-4734-bcb5-a4df392dd1f5",
   "metadata": {},
   "source": [
    "#### Explanation:\n",
    "- __init__: Initializes the iterator with the number of terms to generate and sets the first two Fibonacci numbers.\n",
    "- __iter__: Returns the iterator object itself.\n",
    "- __next__: Calculates the next Fibonacci number, updates the internal state, and raises StopIteration when the specified number of terms is reached.\n",
    "\n",
    "In the example usage, it generates the first 10 Fibonacci numbers using a for loop."
   ]
  },
  {
   "cell_type": "markdown",
   "id": "e455242f-60b4-4e6b-a4c3-becf53ba5b28",
   "metadata": {},
   "source": [
    "### Que 6. Write a generator function in Python that yields the powers of 2 up to a given exponent.\n",
    "A list of numbers as input and returns the sum of all even numbers in the list:"
   ]
  },
  {
   "cell_type": "code",
   "execution_count": 73,
   "id": "7ab5b284-f105-42ef-b64b-085ca0cec918",
   "metadata": {},
   "outputs": [],
   "source": [
    "def sum_of_even_numbers(numbers):\n",
    "    # Use a list comprehension to filter even numbers and sum them up\n",
    "    even_sum = sum(num for num in numbers if num % 2 == 0)\n",
    "    return even_sum"
   ]
  },
  {
   "cell_type": "markdown",
   "id": "222c630c-3e55-4924-aec1-a1bfd21a0962",
   "metadata": {},
   "source": [
    "#### Example usage:"
   ]
  },
  {
   "cell_type": "code",
   "execution_count": 74,
   "id": "d7e30b55-8dd0-4d5f-a2aa-a2b5a96115a2",
   "metadata": {},
   "outputs": [
    {
     "name": "stdout",
     "output_type": "stream",
     "text": [
      "The sum of even numbers is: 70\n"
     ]
    }
   ],
   "source": [
    "numbers = [47, 11, 42, 13, 8, 20]\n",
    "result = sum_of_even_numbers(numbers)\n",
    "print(\"The sum of even numbers is:\", result)"
   ]
  },
  {
   "cell_type": "markdown",
   "id": "25f384d5-c788-4616-a815-a1615a0247d5",
   "metadata": {},
   "source": [
    "#### Explanation:\n",
    "\n",
    "List Comprehension: num for num in numbers if num % 2 == 0 generates a list of even numbers from the input list.\n",
    "\n",
    "sum() Function: The sum() function then adds up all the numbers in this list of even numbers.\n",
    "\n",
    "#### Example Output:\n",
    "If you run the example code with the list [47, 11, 42, 13, 8, 20], the output will be:\n",
    "This result comes from summing the even numbers 42, 8, and 20.\n",
    "### Que 7.  Implement a generator function that reads a file line by line and yields each line as a string.\n",
    "Python generator function that reads a file line by line and yields each line as a string:"
   ]
  },
  {
   "cell_type": "code",
   "execution_count": 75,
   "id": "46208369-727b-492c-a3ad-51d76437be92",
   "metadata": {},
   "outputs": [
    {
     "name": "stdout",
     "output_type": "stream",
     "text": [
      "The file example.txt was not found.\n"
     ]
    }
   ],
   "source": [
    "def read_file_line_by_line(file_path):\n",
    "    try:\n",
    "        with open(file_path, 'r') as file:\n",
    "            for line in file:\n",
    "                yield line.strip()  # strip() removes the trailing newline character\n",
    "    except FileNotFoundError:\n",
    "        print(f\"The file {file_path} was not found.\")\n",
    "    except IOError:\n",
    "        print(f\"An error occurred while reading the file {file_path}.\")\n",
    "\n",
    "# Example usage:\n",
    "file_path = 'example.txt'\n",
    "for line in read_file_line_by_line(file_path):\n",
    "    print(line)\n"
   ]
  },
  {
   "cell_type": "markdown",
   "id": "6d5608bd-12b5-46ed-b1ec-a4d16ab8b07f",
   "metadata": {},
   "source": [
    "#### Explanation:\n",
    "\n",
    "open(file_path, 'r'): Opens the file at file_path in read mode ('r').\n",
    "\n",
    "##### with statement:\n",
    "Ensures that the file is properly closed after the block is executed, even if an error occurs.\n",
    "\n",
    "##### for line in file:\n",
    "Iterates over the file object, reading it line by line.\n",
    "\n",
    "##### yield line.strip(): \n",
    "Yields each line as a string, with trailing newline characters removed using strip().\n",
    "\n",
    "#### Example Usage:\n",
    "\n",
    "Suppose you have a file named example.txt with the following content:\n",
    "Hello, World!\n",
    "This is a test file.\n",
    "It contains several lines.\n",
    "\n",
    "Running the generator function with this file:"
   ]
  },
  {
   "cell_type": "code",
   "execution_count": 78,
   "id": "d88509b1-b725-4d24-a9fb-c58eef964b1f",
   "metadata": {},
   "outputs": [
    {
     "name": "stdout",
     "output_type": "stream",
     "text": [
      "The file example.txt was not found.\n"
     ]
    }
   ],
   "source": [
    "file_path = 'example.txt'\n",
    "for line in read_file_line_by_line(file_path):\n",
    "    print(line)"
   ]
  },
  {
   "cell_type": "markdown",
   "id": "45a71783-e170-4747-b141-ff398a9ea8d1",
   "metadata": {},
   "source": [
    "#### Example Output:\n",
    "Hello, World!\n",
    "This is a test file.\n",
    "It contains several lines.\n",
    "This generator function efficiently reads and processes large files, as it doesn't load the entire file into memory at once but instead processes it line by line.\n",
    "### Que 8. Use a lambda function in Python to sort a list of tuples based on the second element of each tuple\n",
    "You can use a lambda function to sort a list of tuples based on the second element of each tuple as follows:"
   ]
  },
  {
   "cell_type": "markdown",
   "id": "07c452c8-1386-44cb-a7fb-8d621815802b",
   "metadata": {},
   "source": [
    "#### Sample list of tuples\n",
    "tuples_list = [(1, 3), (4, 1), (5, 2), (2, 4)]\n",
    "\n",
    "#### Sorting the list based on the second element of each tuple\n",
    "sorted_list = sorted(tuples_list, key=lambda x: x[1])\n",
    "\n",
    "print(sorted_list)\n"
   ]
  },
  {
   "cell_type": "markdown",
   "id": "283b812a-0df7-47c5-a496-f49f71d3e095",
   "metadata": {},
   "source": [
    "#### Explanation:\n",
    "\n",
    "lambda x: x[1]: This lambda function takes a tuple x as input and returns its second element (x[1]).\n",
    "\n",
    "sorted(tuples_list, key=lambda x: x[1]): The sorted() function sorts the tuples_list based on the value returned by the lambda function, which is the second element of each tuple.\n",
    "\n",
    "#### Example Output:\n",
    "\n",
    "Given the list [(1, 3), (4, 1), (5, 2), (2, 4)], the sorted list will be:"
   ]
  },
  {
   "cell_type": "code",
   "execution_count": 81,
   "id": "5b2cccbe-97c9-404e-a984-37e789f96142",
   "metadata": {},
   "outputs": [
    {
     "data": {
      "text/plain": [
       "[(4, 1), (5, 2), (1, 3), (2, 4)]"
      ]
     },
     "execution_count": 81,
     "metadata": {},
     "output_type": "execute_result"
    }
   ],
   "source": [
    "[(4, 1), (5, 2), (1, 3), (2, 4)]"
   ]
  },
  {
   "cell_type": "markdown",
   "id": "a92bbe9e-227f-4823-952f-2d20c192a5ad",
   "metadata": {},
   "source": [
    "Here, the tuples are sorted in ascending order based on their second elements: 1, 2, 3, and 4.\n",
    "### Que 9 -Write a Python program that uses `map()` to convert a list of temperatures from Celsius to Fahrenheit.\n",
    "A Python program that uses the map() function to convert a list of temperatures from Celsius to Fahrenheit:"
   ]
  },
  {
   "cell_type": "code",
   "execution_count": 82,
   "id": "8218b408-8887-4a18-8c8c-264b7c346bc2",
   "metadata": {},
   "outputs": [
    {
     "name": "stdout",
     "output_type": "stream",
     "text": [
      "[32.0, 68.0, 98.6, 212.0]\n"
     ]
    }
   ],
   "source": [
    "# Function to convert Celsius to Fahrenheit\n",
    "def celsius_to_fahrenheit(celsius):\n",
    "    return (celsius * 9/5) + 32\n",
    "\n",
    "# List of temperatures in Celsius\n",
    "celsius_temperatures = [0, 20, 37, 100]\n",
    "\n",
    "# Use map() to apply the conversion to each temperature\n",
    "fahrenheit_temperatures = map(celsius_to_fahrenheit, celsius_temperatures)\n",
    "\n",
    "# Convert the map object to a list to see the results\n",
    "fahrenheit_list = list(fahrenheit_temperatures)\n",
    "\n",
    "print(fahrenheit_list)"
   ]
  },
  {
   "cell_type": "markdown",
   "id": "f5ba251f-736a-4297-a785-588b0132d810",
   "metadata": {},
   "source": [
    "### Que 10 -  Create a Python program that uses `filter()` to remove all the vowels from a given string.\n",
    "Python program that uses the filter() function to remove all the vowels from a given string:"
   ]
  },
  {
   "cell_type": "code",
   "execution_count": 83,
   "id": "bda2ff86-dad2-4336-8009-22551f114dcd",
   "metadata": {},
   "outputs": [
    {
     "name": "stdout",
     "output_type": "stream",
     "text": [
      "Hll, Wrld!\n"
     ]
    }
   ],
   "source": [
    "# Function to check if a character is not a vowel\n",
    "def is_not_vowel(char):\n",
    "    vowels = 'aeiouAEIOU'\n",
    "    return char not in vowels\n",
    "\n",
    "# Given string\n",
    "input_string = \"Hello, World!\"\n",
    "\n",
    "# Use filter() to remove vowels from the string\n",
    "result_string = ''.join(filter(is_not_vowel, input_string))\n",
    "\n",
    "print(result_string)\n"
   ]
  },
  {
   "cell_type": "markdown",
   "id": "9fc3027b-748e-4595-80e0-854daa680921",
   "metadata": {},
   "source": [
    "#### Explanation:\n",
    "\n",
    "##### is_not_vowel(char): \n",
    "This function checks if a character is not a vowel by verifying that it is not in the string 'aeiouAEIOU'.\n",
    "\n",
    "filter(is_not_vowel, input_string): The filter() function applies is_not_vowel to each character in the input_string, filtering out any characters that are vowels.\n",
    "\n",
    "##### ''.join(filter(...)): \n",
    "The filter() function returns an iterator, so ''.join() is used to join the remaining characters back into a string.\n",
    "\n",
    "#### Example Output:\n",
    "\n",
    "Given the string \"Hello, World!\", the program will output:\n",
    "\n",
    "\"Hll, Wrld!\"\n",
    "\n",
    "This output is the original string with all vowels removed.\n",
    "#### Que 11. ) Imagine an accounting routine used in a book shop. It works on a list with sublists, which look like this:\n",
    "#### Write a Python program, which returns a list with 2-tuples. Each tuple consists of the order number and the product of the price per item and the quantity. The product should be increased by 10,- € if the value of the order is smaller than 100,00 €.\n",
    "\n",
    "#### Write a Python program using lambda and map."
   ]
  },
  {
   "cell_type": "markdown",
   "id": "ec5c5667-6738-4326-8280-13a1aaff1f4c",
   "metadata": {},
   "source": [
    "To accomplish this task using lambda and map, we will create a Python program that processes the data and returns a list of 2-tuples with the order number and the total price for each order, applying the additional €10 charge if the order value is less than €100."
   ]
  },
  {
   "cell_type": "code",
   "execution_count": 84,
   "id": "3aa05852-51f1-43cb-b804-512bf2ffabd7",
   "metadata": {},
   "outputs": [
    {
     "name": "stdout",
     "output_type": "stream",
     "text": [
      "[(34587, 163.8), (98762, 284.0), (77226, 108.85), (88112, 84.97)]\n"
     ]
    }
   ],
   "source": [
    "# Data\n",
    "orders = [\n",
    "    [34587, \"Learning Python, Mark Lutz\", 4, 40.95],\n",
    "    [98762, \"Programming Python, Mark Lutz\", 5, 56.80],\n",
    "    [77226, \"Head First Python, Paul Barry\", 3, 32.95],\n",
    "    [88112, \"Einführung in Python3, Bernd Klein\", 3, 24.99]\n",
    "]\n",
    "\n",
    "# Lambda function to calculate the total price\n",
    "# The lambda takes an order and returns a tuple (Order Number, Total Price)\n",
    "calculate_price = lambda order: (order[0], round(order[2] * order[3], 2) if order[2] * order[3] >= 100 else round(order[2] * order[3] + 10, 2))\n",
    "\n",
    "# Use map to apply the lambda function to each order\n",
    "final_prices = list(map(calculate_price, orders))\n",
    "\n",
    "# Output the result\n",
    "print(final_prices)\n"
   ]
  },
  {
   "cell_type": "markdown",
   "id": "9fe0f91e-4ec9-4145-8827-5d292e34d42f",
   "metadata": {},
   "source": [
    "#### Explanation:\n",
    "\n",
    "Data Structure: The orders list contains sublists with the following structure: [Order Number, Book Title and Author, Quantity, Price per Item].\n",
    "\n",
    "#### Lambda Function:\n",
    "\n",
    "The lambda function calculate_price is used to compute the total price for each order.\n",
    "\n",
    "order[2] * order[3]: This calculates the product of the quantity and the price per item.\n",
    "\n",
    "if order[2] * order[3] >= 100: If the total price is greater than or equal to €100, it leaves the price unchanged; otherwise, it adds €10.\n",
    "\n",
    "round(..., 2): The round function is used to round the total price to two decimal places.\n",
    "\n",
    "#### map() Function:\n",
    "The map() function applies the calculate_price lambda to each sublist in orders.\n",
    "\n",
    "#### list() Function: \n",
    "Converts the map object into a list of tuples.\n",
    "#### Example Output:\n",
    "\n",
    "Running the program with the provided data will yield the following output:\n",
    "\n",
    "[(34587, 163.8), (98762, 284.0), (77226, 108.85), (88112, 84.97)]\n",
    "\n",
    "This output contains the order numbers and the final prices, with the additional €10 charge applied to the last order, which originally had a total of \n",
    "\n",
    "less than €100."
   ]
  },
  {
   "cell_type": "code",
   "execution_count": null,
   "id": "69a72604-6100-4594-933b-43283c8fee4c",
   "metadata": {},
   "outputs": [],
   "source": []
  }
 ],
 "metadata": {
  "kernelspec": {
   "display_name": "Python 3 (ipykernel)",
   "language": "python",
   "name": "python3"
  },
  "language_info": {
   "codemirror_mode": {
    "name": "ipython",
    "version": 3
   },
   "file_extension": ".py",
   "mimetype": "text/x-python",
   "name": "python",
   "nbconvert_exporter": "python",
   "pygments_lexer": "ipython3",
   "version": "3.12.4"
  }
 },
 "nbformat": 4,
 "nbformat_minor": 5
}
